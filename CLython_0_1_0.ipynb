{
 "cells": [
  {
   "cell_type": "markdown",
   "metadata": {},
   "source": [
    "# Clython"
   ]
  },
  {
   "cell_type": "markdown",
   "metadata": {},
   "source": [
    "## version 0.1.0"
   ]
  },
  {
   "cell_type": "markdown",
   "metadata": {},
   "source": [
    "## Tests CLython"
   ]
  },
  {
   "cell_type": "code",
   "execution_count": null,
   "metadata": {},
   "outputs": [],
   "source": [
    "tests_clojure = {\n",
    "    #тест на вывод данных в консоль\n",
    "    'code_0_0' : '(print 1)',\n",
    "    'code_0_1' : '(println 1)',\n",
    "    'code_0_2' : 'print(1)',\n",
    "    'code_0_3' : 'println(1)',\n",
    "    'code_0_4' : 'print (1)',\n",
    "    'code_0_5' : 'println (1)',\n",
    "    'code_0_6' : '(print \"Hello, World!\")',\n",
    "    'code_0_7' : '(println \"Hello, World!\")',\n",
    "    'code_0_8' : 'print(\"Hello, World!\")',\n",
    "    'code_0_9' : 'println(\"Hello, World!\")',\n",
    "    'code_0_10' : 'print (\"Hello, World!\")',\n",
    "    'code_0_11' : 'println (\"Hello, World!\")',\n",
    "\n",
    "    #тест на const function's\n",
    "    'code_1' : '(a 1)',\n",
    "\n",
    "    #тест на операции\n",
    "    'code_2_0' : '(+ 1 1)',\n",
    "    'code_2_1' : '(- 1 1)',\n",
    "    'code_2_2' : '(* 1 1)',\n",
    "    'code_2_3' : '(/ 1 1)',\n",
    "    'code_2_4' : '(// 1 1)',\n",
    "    'code_2_5' : '(div 1 1)',\n",
    "    'code_2_6' : '(% 1 1)',\n",
    "    'code_2_7' : '(mod 1 1)',\n",
    "\n",
    "    #тест на множественные действия\n",
    "    'code_3_0' : '''\n",
    "                (a 1)\n",
    "                (+ a 1)\n",
    "               ''',\n",
    "\n",
    "    'code_3_1' : '''(println \n",
    "                    (+ 1 1))\n",
    "               ''',\n",
    "\n",
    "    'code_2_0' : '''\n",
    "                (a 1)\n",
    "                (println \n",
    "                    (+ a 1))\n",
    "               ''',\n",
    "}"
   ]
  },
  {
   "cell_type": "markdown",
   "metadata": {},
   "source": [
    "## Reserved Functions"
   ]
  },
  {
   "cell_type": "code",
   "execution_count": null,
   "metadata": {},
   "outputs": [],
   "source": [
    "def print_args(*args):\n",
    "    print(type(args))\n",
    "    print(args)\n",
    "    new_args = []\n",
    "    for arg in args:\n",
    "        if type(arg) == type(list()):\n",
    "            new_args.append(' '.join(arg))\n",
    "        else:\n",
    "            new_args.append(str(arg))\n",
    "    print(f'print_args: '+ ' '.join(new_args))\n",
    "    return None"
   ]
  },
  {
   "cell_type": "code",
   "execution_count": null,
   "metadata": {},
   "outputs": [],
   "source": [
    "def none(*args):\n",
    "    out = args\n",
    "    return out"
   ]
  },
  {
   "cell_type": "code",
   "execution_count": null,
   "metadata": {},
   "outputs": [],
   "source": [
    "def init(args):   \n",
    "    thread = 'main'\n",
    "    if functions['reserved'].get(args) == None:\n",
    "        functions[thread][args] = functions['reserved']['__none__']\n",
    "        \n",
    "    elif functions['reserved'].get(args) != None:\n",
    "        functions[thread][args] = functions['reserved'][args]"
   ]
  },
  {
   "cell_type": "code",
   "execution_count": null,
   "metadata": {},
   "outputs": [],
   "source": [
    "def write(args):   \n",
    "    thread = 'main'\n",
    "    func_name = args[0]\n",
    "    args = args[1]\n",
    "    print(f'func_name: {func_name}')\n",
    "    functions[thread][func_name] = functions[thread][func_name](args) "
   ]
  },
  {
   "cell_type": "markdown",
   "metadata": {},
   "source": [
    "## Interpriter"
   ]
  },
  {
   "cell_type": "code",
   "execution_count": null,
   "metadata": {},
   "outputs": [],
   "source": [
    "def normal_split(line, sep):\n",
    "    out_split = []\n",
    "    s = ''\n",
    "    for symbol in line:\n",
    "        if symbol in sep:\n",
    "            if s != '':\n",
    "                out_split.append(s)\n",
    "                s = ''\n",
    "            out_split.append(symbol)\n",
    "        else:\n",
    "            s += symbol\n",
    "            \n",
    "    return out_split"
   ]
  },
  {
   "cell_type": "code",
   "execution_count": null,
   "metadata": {},
   "outputs": [],
   "source": [
    "def parser(code):\n",
    "    parse_code = normal_split(code, sep = [' ', '(', ')'])\n",
    "    print(f'parse_code: {parse_code}')\n",
    "    return parse_code"
   ]
  },
  {
   "cell_type": "code",
   "execution_count": null,
   "metadata": {},
   "outputs": [],
   "source": [
    "def command_doings(parse_code):\n",
    "    print(f'parse_code: {parse_code}')\n",
    "    command_doing = []\n",
    "    thread = 'main'\n",
    "    length = len(parse_code)\n",
    "    num = 0\n",
    "    #создание потока main\n",
    "    #наследование базовых функций?\n",
    "    \n",
    "    while length >= num:\n",
    "        doing = parse_code[num]\n",
    "        \n",
    "        if doing == '(':\n",
    "            command_doing.append(\n",
    "                {\n",
    "                    'function': '__init__',\n",
    "                    'args': parse_code[num+1]\n",
    "                })\n",
    "            command_doing.append(\n",
    "                {\n",
    "                    'function': '__write__',\n",
    "                    'args': [parse_code[num+1], parse_code[num+2:-1]]\n",
    "                })\n",
    "            \n",
    "            num = length+1\n",
    "            #удаление значения и функции?\n",
    "        else:\n",
    "            num = length+1\n",
    "            print(f'Ошибка синтаксиса: Не найдена скобка вначале строки!')\n",
    "            \n",
    "    print(f'command_doings: {command_doing}')\n",
    "    return command_doing"
   ]
  },
  {
   "cell_type": "code",
   "execution_count": null,
   "metadata": {},
   "outputs": [],
   "source": [
    "def interpreter(command_doing):\n",
    "    print(f'command_doings: {command_doing}')\n",
    "    thread = 'main'\n",
    "    for command in command_doing:\n",
    "        functions[thread][command['function']](command['args']) \n",
    "    \n",
    "    #print(f'interpreter: {command_doings}')"
   ]
  },
  {
   "cell_type": "code",
   "execution_count": null,
   "metadata": {},
   "outputs": [],
   "source": [
    "def CLython(code):\n",
    "    print(code)\n",
    "    parse_code = parser(code)\n",
    "    command_doing = command_doings(parse_code)\n",
    "    interpreter(command_doing);\n",
    "    print('Выполнение кода завершено!')"
   ]
  },
  {
   "cell_type": "markdown",
   "metadata": {},
   "source": [
    "## Memmory and Call reserved functions"
   ]
  },
  {
   "cell_type": "code",
   "execution_count": null,
   "metadata": {},
   "outputs": [],
   "source": [
    "memmory = {}\n",
    "functions = {\n",
    "    'reserved':{\n",
    "        'print':print_args,\n",
    "        'println':print_args,\n",
    "        '__init__':init,\n",
    "        '__write__':write,\n",
    "        '__none__':none,\n",
    "        \n",
    "    },\n",
    "    'main':{\n",
    "        '__init__':init,\n",
    "        '__write__':write,\n",
    "        '__none__':none,\n",
    "    }\n",
    "}"
   ]
  },
  {
   "cell_type": "markdown",
   "metadata": {},
   "source": [
    "## Go Tests"
   ]
  },
  {
   "cell_type": "markdown",
   "metadata": {},
   "source": [
    "### Множественное тестирование"
   ]
  },
  {
   "cell_type": "code",
   "execution_count": null,
   "metadata": {},
   "outputs": [],
   "source": [
    "try:\n",
    "    for test in tests_clojure:\n",
    "        print(f'Выполняется тест: {test}')\n",
    "        value_code = tests_clojure[test]\n",
    "        CLython(value_code)\n",
    "        print('-'*100)\n",
    "except:\n",
    "    print(f'Failed: тест {test} - не прошёл!')"
   ]
  },
  {
   "cell_type": "markdown",
   "metadata": {},
   "source": [
    "### Отдельное тестирование"
   ]
  },
  {
   "cell_type": "code",
   "execution_count": null,
   "metadata": {},
   "outputs": [],
   "source": [
    "CLython(tests_clojure['code_0_0'])"
   ]
  },
  {
   "cell_type": "code",
   "execution_count": null,
   "metadata": {},
   "outputs": [],
   "source": [
    "CLython(tests_clojure['code_0_1'])"
   ]
  },
  {
   "cell_type": "markdown",
   "metadata": {},
   "source": [
    "## Errors - Ошибки\n",
    "1. Неправильные тесты - нет проверки вывода\n",
    "2. Невозможность определить тип string -> можно будет делать проверку типов\n",
    "3. Нет зарезервированных функций операций\n",
    "4. Не удаляются лишние пробелы при парсинге\n",
    "5. Нет парсинга множества команд из строк\n",
    "6. Нет парсинга множества последовательных действий"
   ]
  },
  {
   "cell_type": "markdown",
   "metadata": {},
   "source": [
    "## Исправления"
   ]
  },
  {
   "cell_type": "code",
   "execution_count": null,
   "metadata": {},
   "outputs": [],
   "source": []
  }
 ],
 "metadata": {
  "kernelspec": {
   "display_name": "Python 3",
   "language": "python",
   "name": "python3"
  },
  "language_info": {
   "codemirror_mode": {
    "name": "ipython",
    "version": 3
   },
   "file_extension": ".py",
   "mimetype": "text/x-python",
   "name": "python",
   "nbconvert_exporter": "python",
   "pygments_lexer": "ipython3",
   "version": "3.8.5"
  }
 },
 "nbformat": 4,
 "nbformat_minor": 4
}
